{
 "cells": [
  {
   "cell_type": "code",
   "execution_count": 1,
   "id": "efdd2f3d-f973-4d15-bae8-4638b238a18f",
   "metadata": {},
   "outputs": [],
   "source": [
    "# https://tech.kakao.com/2021/06/25/kakao-ai-recommendation-01/"
   ]
  },
  {
   "cell_type": "markdown",
   "id": "6d3188bd-b308-4c02-a92b-8a332da2a3ea",
   "metadata": {},
   "source": [
    "## Step1. Read Data"
   ]
  },
  {
   "cell_type": "code",
   "execution_count": 2,
   "id": "436a5c9f-9f9b-43ed-abd7-d92f830ad0d5",
   "metadata": {},
   "outputs": [
    {
     "data": {
      "text/html": [
       "<div>\n",
       "<style scoped>\n",
       "    .dataframe tbody tr th:only-of-type {\n",
       "        vertical-align: middle;\n",
       "    }\n",
       "\n",
       "    .dataframe tbody tr th {\n",
       "        vertical-align: top;\n",
       "    }\n",
       "\n",
       "    .dataframe thead th {\n",
       "        text-align: right;\n",
       "    }\n",
       "</style>\n",
       "<table border=\"1\" class=\"dataframe\">\n",
       "  <thead>\n",
       "    <tr style=\"text-align: right;\">\n",
       "      <th></th>\n",
       "      <th>Ad 1</th>\n",
       "      <th>Ad 2</th>\n",
       "      <th>Ad 3</th>\n",
       "      <th>Ad 4</th>\n",
       "      <th>Ad 5</th>\n",
       "      <th>Ad 6</th>\n",
       "      <th>Ad 7</th>\n",
       "      <th>Ad 8</th>\n",
       "      <th>Ad 9</th>\n",
       "      <th>Ad 10</th>\n",
       "    </tr>\n",
       "  </thead>\n",
       "  <tbody>\n",
       "    <tr>\n",
       "      <th>0</th>\n",
       "      <td>1</td>\n",
       "      <td>0</td>\n",
       "      <td>0</td>\n",
       "      <td>0</td>\n",
       "      <td>1</td>\n",
       "      <td>0</td>\n",
       "      <td>0</td>\n",
       "      <td>0</td>\n",
       "      <td>1</td>\n",
       "      <td>0</td>\n",
       "    </tr>\n",
       "    <tr>\n",
       "      <th>1</th>\n",
       "      <td>0</td>\n",
       "      <td>0</td>\n",
       "      <td>0</td>\n",
       "      <td>0</td>\n",
       "      <td>0</td>\n",
       "      <td>0</td>\n",
       "      <td>0</td>\n",
       "      <td>0</td>\n",
       "      <td>1</td>\n",
       "      <td>0</td>\n",
       "    </tr>\n",
       "    <tr>\n",
       "      <th>2</th>\n",
       "      <td>0</td>\n",
       "      <td>0</td>\n",
       "      <td>0</td>\n",
       "      <td>0</td>\n",
       "      <td>0</td>\n",
       "      <td>0</td>\n",
       "      <td>0</td>\n",
       "      <td>0</td>\n",
       "      <td>0</td>\n",
       "      <td>0</td>\n",
       "    </tr>\n",
       "    <tr>\n",
       "      <th>3</th>\n",
       "      <td>0</td>\n",
       "      <td>1</td>\n",
       "      <td>0</td>\n",
       "      <td>0</td>\n",
       "      <td>0</td>\n",
       "      <td>0</td>\n",
       "      <td>0</td>\n",
       "      <td>1</td>\n",
       "      <td>0</td>\n",
       "      <td>0</td>\n",
       "    </tr>\n",
       "    <tr>\n",
       "      <th>4</th>\n",
       "      <td>0</td>\n",
       "      <td>0</td>\n",
       "      <td>0</td>\n",
       "      <td>0</td>\n",
       "      <td>0</td>\n",
       "      <td>0</td>\n",
       "      <td>0</td>\n",
       "      <td>0</td>\n",
       "      <td>0</td>\n",
       "      <td>0</td>\n",
       "    </tr>\n",
       "  </tbody>\n",
       "</table>\n",
       "</div>"
      ],
      "text/plain": [
       "   Ad 1  Ad 2  Ad 3  Ad 4  Ad 5  Ad 6  Ad 7  Ad 8  Ad 9  Ad 10\n",
       "0     1     0     0     0     1     0     0     0     1      0\n",
       "1     0     0     0     0     0     0     0     0     1      0\n",
       "2     0     0     0     0     0     0     0     0     0      0\n",
       "3     0     1     0     0     0     0     0     1     0      0\n",
       "4     0     0     0     0     0     0     0     0     0      0"
      ]
     },
     "execution_count": 2,
     "metadata": {},
     "output_type": "execute_result"
    }
   ],
   "source": [
    "import pandas as pd\n",
    "\n",
    "# data read\n",
    "# row by item -> user by campaign\n",
    "data_path = 'data/Ads_CTR_Optimisation.csv'\n",
    "\n",
    "df = pd.read_csv(data_path)\n",
    "df.head()"
   ]
  },
  {
   "cell_type": "markdown",
   "id": "df93453b-095b-4fc4-b89d-5a93390a9304",
   "metadata": {},
   "source": [
    "## Step2. Topic modeling"
   ]
  },
  {
   "cell_type": "code",
   "execution_count": 15,
   "id": "1d6be997-cd6c-40d6-9893-527d3c0f851b",
   "metadata": {},
   "outputs": [
    {
     "name": "stdout",
     "output_type": "stream",
     "text": [
      "LatentDirichletAllocation(learning_method='online', n_components=3, n_jobs=-1,\n",
      "                          random_state=100)\n"
     ]
    }
   ],
   "source": [
    "from sklearn.decomposition import LatentDirichletAllocation, TruncatedSVD\n",
    "\n",
    "lda_model = LatentDirichletAllocation(n_components=3,               # Number of topics\n",
    "                                      max_iter=10,                  # Max learning iterations\n",
    "                                      learning_method='online',   \n",
    "                                      random_state=100,             # Random state\n",
    "                                      batch_size=128,               # n docs in each learning iter\n",
    "                                      evaluate_every = -1,          # compute perplexity every n iters, default: Don't\n",
    "                                      n_jobs = -1,                  # Use all available CPUs\n",
    "                                     )\n",
    "lda_output = lda_model.fit_transform(df)\n",
    "print(lda_model)  # Model attributes\n"
   ]
  },
  {
   "cell_type": "code",
   "execution_count": 16,
   "id": "567d3aeb-d101-4026-a044-1c748ea317aa",
   "metadata": {},
   "outputs": [
    {
     "name": "stdout",
     "output_type": "stream",
     "text": [
      "[[3.67596654e-01 1.30176405e+03 3.53350098e-01 3.52499355e-01\n",
      "  4.28403079e-01 3.48914777e-01 3.53893092e-01 1.04840515e+00\n",
      "  9.56596197e+02 3.53430483e-01]\n",
      " [4.45985030e-01 3.45371281e-01 7.33959543e+02 1.20076191e+03\n",
      "  3.79852882e-01 1.25423028e+02 1.11828506e+03 3.76645549e-01\n",
      "  3.44437547e-01 4.83383274e+02]\n",
      " [1.69726786e+03 3.43910757e-01 3.49582969e-01 3.50186205e-01\n",
      "  2.71339161e+03 3.54120513e-01 3.51645393e-01 2.07115087e+03\n",
      "  3.44230497e-01 3.49138529e-01]]\n",
      "(3, 10)\n"
     ]
    }
   ],
   "source": [
    "print(lda_model.components_)\n",
    "print(lda_model.components_.shape) "
   ]
  },
  {
   "cell_type": "code",
   "execution_count": 23,
   "id": "b69275dd-a06a-45b3-bd01-04a10b3be683",
   "metadata": {},
   "outputs": [
    {
     "name": "stdout",
     "output_type": "stream",
     "text": [
      "Topic 1: {'Ad 2': 1301.76, 'Ad 9': 956.6, 'Ad 8': 1.05, 'Ad 5': 0.43, 'Ad 1': 0.37, 'Ad 7': 0.35, 'Ad 10': 0.35, 'Ad 3': 0.35, 'Ad 4': 0.35, 'Ad 6': 0.35}\n",
      "Topic 2: {'Ad 4': 1200.76, 'Ad 7': 1118.29, 'Ad 3': 733.96, 'Ad 10': 483.38, 'Ad 6': 125.42, 'Ad 1': 0.45, 'Ad 5': 0.38, 'Ad 8': 0.38, 'Ad 2': 0.35, 'Ad 9': 0.34}\n",
      "Topic 3: {'Ad 5': 2713.39, 'Ad 8': 2071.15, 'Ad 1': 1697.27, 'Ad 6': 0.35, 'Ad 7': 0.35, 'Ad 4': 0.35, 'Ad 3': 0.35, 'Ad 10': 0.35, 'Ad 9': 0.34, 'Ad 2': 0.34}\n"
     ]
    }
   ],
   "source": [
    "def get_topics(components, feature_names, n=10):\n",
    "    \n",
    "    items = {}\n",
    "    \n",
    "    for idx, topic in enumerate(components):\n",
    "        print(\"Topic %d:\" % (idx+1), {feature_names[i]: topic[i].round(2) for i in topic.argsort()[:-n - 1:-1]})\n",
    "        item = {feature_names[i]: topic[i].round(2) for i in topic.argsort()[:-n - 1:-1]}\n",
    "        \n",
    "        items[\"Topic %d:\" % (idx+1)] = item\n",
    "        \n",
    "    return items\n",
    "# 주제 벡터\n",
    "terms = df.columns.tolist()\n",
    "items = get_topics(lda_model.components_,terms)"
   ]
  },
  {
   "cell_type": "code",
   "execution_count": 24,
   "id": "6c2fb783-b91a-4c26-a857-ad30afac6044",
   "metadata": {},
   "outputs": [
    {
     "data": {
      "text/plain": [
       "{'Topic 1:': {'Ad 2': 1301.76,\n",
       "  'Ad 9': 956.6,\n",
       "  'Ad 8': 1.05,\n",
       "  'Ad 5': 0.43,\n",
       "  'Ad 1': 0.37,\n",
       "  'Ad 7': 0.35,\n",
       "  'Ad 10': 0.35,\n",
       "  'Ad 3': 0.35,\n",
       "  'Ad 4': 0.35,\n",
       "  'Ad 6': 0.35},\n",
       " 'Topic 2:': {'Ad 4': 1200.76,\n",
       "  'Ad 7': 1118.29,\n",
       "  'Ad 3': 733.96,\n",
       "  'Ad 10': 483.38,\n",
       "  'Ad 6': 125.42,\n",
       "  'Ad 1': 0.45,\n",
       "  'Ad 5': 0.38,\n",
       "  'Ad 8': 0.38,\n",
       "  'Ad 2': 0.35,\n",
       "  'Ad 9': 0.34},\n",
       " 'Topic 3:': {'Ad 5': 2713.39,\n",
       "  'Ad 8': 2071.15,\n",
       "  'Ad 1': 1697.27,\n",
       "  'Ad 6': 0.35,\n",
       "  'Ad 7': 0.35,\n",
       "  'Ad 4': 0.35,\n",
       "  'Ad 3': 0.35,\n",
       "  'Ad 10': 0.35,\n",
       "  'Ad 9': 0.34,\n",
       "  'Ad 2': 0.34}}"
      ]
     },
     "execution_count": 24,
     "metadata": {},
     "output_type": "execute_result"
    }
   ],
   "source": [
    "items"
   ]
  },
  {
   "cell_type": "code",
   "execution_count": 18,
   "id": "1fb1df06-9857-45ee-8f0a-398bcf28fdac",
   "metadata": {},
   "outputs": [],
   "source": [
    "# 사용자 주제 벡터\n",
    "sample = pd.DataFrame(df.iloc[0]).T"
   ]
  },
  {
   "cell_type": "code",
   "execution_count": 19,
   "id": "12096cc8-9325-4a46-be9c-c22c2462b7b9",
   "metadata": {},
   "outputs": [
    {
     "data": {
      "text/plain": [
       "array([[0.33334723, 0.08333462, 0.58331815]])"
      ]
     },
     "execution_count": 19,
     "metadata": {},
     "output_type": "execute_result"
    }
   ],
   "source": [
    "sample_output = lda_model.transform(sample)\n",
    "sample_output"
   ]
  },
  {
   "cell_type": "markdown",
   "id": "d63bcf3f-2e00-4dd7-add4-2ba06872c84c",
   "metadata": {},
   "source": [
    "## Step3. 피드백을 통한 실시간 최적화"
   ]
  },
  {
   "cell_type": "code",
   "execution_count": null,
   "id": "139ce558-afdd-465a-b4d0-a0a1741e74b4",
   "metadata": {},
   "outputs": [],
   "source": [
    "## 실시간 최적화 -> MAB"
   ]
  },
  {
   "cell_type": "code",
   "execution_count": null,
   "id": "69e3c424-bda6-44b1-b64e-6a56a2f0e1c6",
   "metadata": {},
   "outputs": [],
   "source": []
  },
  {
   "cell_type": "code",
   "execution_count": null,
   "id": "abc319e7-2283-4fba-817a-830f1902161f",
   "metadata": {},
   "outputs": [],
   "source": []
  },
  {
   "cell_type": "code",
   "execution_count": null,
   "id": "625b67be-4b01-46db-a393-ebaaeb3ee336",
   "metadata": {},
   "outputs": [],
   "source": []
  },
  {
   "cell_type": "code",
   "execution_count": null,
   "id": "4e068258-8985-48a7-be49-59c6c8d74a80",
   "metadata": {},
   "outputs": [],
   "source": []
  },
  {
   "cell_type": "code",
   "execution_count": null,
   "id": "e71ef69e-fea3-4d2f-bdcf-cdc170c21feb",
   "metadata": {},
   "outputs": [],
   "source": []
  },
  {
   "cell_type": "code",
   "execution_count": null,
   "id": "851c4884-fc66-44fb-adb7-72e423dacae0",
   "metadata": {},
   "outputs": [],
   "source": []
  },
  {
   "cell_type": "code",
   "execution_count": null,
   "id": "5a25c51e-b952-41fa-9d55-634fc391a69a",
   "metadata": {},
   "outputs": [],
   "source": []
  },
  {
   "cell_type": "code",
   "execution_count": null,
   "id": "cb25e1e4-5976-4102-9dfd-418c1128b568",
   "metadata": {},
   "outputs": [],
   "source": []
  },
  {
   "cell_type": "code",
   "execution_count": null,
   "id": "ed5ac24a-bad5-4a17-8edd-3e81ee19b62f",
   "metadata": {},
   "outputs": [],
   "source": []
  }
 ],
 "metadata": {
  "kernelspec": {
   "display_name": "Python 3",
   "language": "python",
   "name": "python3"
  },
  "language_info": {
   "codemirror_mode": {
    "name": "ipython",
    "version": 3
   },
   "file_extension": ".py",
   "mimetype": "text/x-python",
   "name": "python",
   "nbconvert_exporter": "python",
   "pygments_lexer": "ipython3",
   "version": "3.8.5"
  }
 },
 "nbformat": 4,
 "nbformat_minor": 5
}
