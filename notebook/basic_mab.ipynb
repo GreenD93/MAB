{
 "cells": [
  {
   "cell_type": "code",
   "execution_count": 1,
   "id": "823886f9-b9a8-4d07-a592-284db79626af",
   "metadata": {},
   "outputs": [],
   "source": [
    "# https://brunch.co.kr/@chris-song/66"
   ]
  },
  {
   "cell_type": "markdown",
   "id": "37571565-c029-458c-8467-429df77a5f81",
   "metadata": {},
   "source": [
    "## Define settings"
   ]
  },
  {
   "cell_type": "code",
   "execution_count": 2,
   "id": "ae85aa89-e1f8-4b85-88e2-bfbb59c08f7e",
   "metadata": {},
   "outputs": [
    {
     "name": "stderr",
     "output_type": "stream",
     "text": [
      "<frozen importlib._bootstrap>:219: RuntimeWarning: scipy._lib.messagestream.MessageStream size changed, may indicate binary incompatibility. Expected 56 from C header, got 64 from PyObject\n"
     ]
    }
   ],
   "source": [
    "from scipy.stats import beta, bernoulli\n",
    "import matplotlib.pyplot as plt\n",
    "import numpy as np\n",
    "\n",
    "a = 3  # there are 3 ads type in total\n",
    "total_reward = 0 # sum of rewards\n",
    "chosen_ads = []  # an empty list created for choosed ads\n",
    "clicks = [0] * a   # '1' as a reward from each ad : click\n",
    "impressions = [0] * a  # '0' as a reward from each ad : non-click\n",
    "colors = ['r-', 'g-', 'b-']"
   ]
  },
  {
   "cell_type": "markdown",
   "id": "3d1a6eb0-91f9-4580-8ce2-dfe3c7351f38",
   "metadata": {},
   "source": [
    "## Step1. Initial"
   ]
  },
  {
   "cell_type": "code",
   "execution_count": 3,
   "id": "5043ca32-1f13-4bba-b85a-535db95ce467",
   "metadata": {},
   "outputs": [
    {
     "data": {
      "image/png": "[encoded data removed]",
      "text/plain": [
       "<Figure size 432x288 with 1 Axes>"
      ]
     },
     "metadata": {
      "needs_background": "light"
     },
     "output_type": "display_data"
    }
   ],
   "source": [
    "fig, ax = plt.subplots(1, 1)\n",
    "\n",
    "# UCB : Deterministic / Requires update at every round\n",
    "# TS : Probabilistic / Can accommodate delayed feedback / Better empirical evidence\n",
    "\n",
    "# mean, var, skew, kurt = beta.stats(a, b, moments='mvsk')\n",
    "x = np.linspace(0, 1, 100)\n",
    "for i in range(a):\n",
    "    ax.plot(x, beta.pdf(x, clicks[i]+1, impressions[i]+1), colors[i], lw=3, alpha=0.6, label='banner{0}'.format(i+1))\n",
    "    \n",
    "ax.legend(loc='best', frameon=False)\n",
    "plt.show()"
   ]
  },
  {
   "cell_type": "code",
   "execution_count": 4,
   "id": "63e5bc3f-6068-4df2-8bf6-886b17424cf9",
   "metadata": {},
   "outputs": [],
   "source": [
    "items = {\n",
    "            'banner_1': {\n",
    "                'clicks' : 0,\n",
    "                'impressions' : 0,\n",
    "                'color' : 'r-'\n",
    "            },\n",
    "            'banner_2': {\n",
    "                'clicks' : 0,\n",
    "                'impressions' : 0,\n",
    "                'color' : 'g-'\n",
    "            },\n",
    "            'banner_3': {\n",
    "                'clicks' : 0,\n",
    "                'impressions' : 0,\n",
    "                'color' : 'b-'\n",
    "            }\n",
    "        }"
   ]
  },
  {
   "cell_type": "markdown",
   "id": "a8b364a7-d070-431d-9940-b75816570e24",
   "metadata": {},
   "source": [
    "## Data가 쌓일 때 까지 Random 노출"
   ]
  },
  {
   "cell_type": "code",
   "execution_count": 5,
   "id": "21e9cd83-4f12-4cec-b947-1af86517d49e",
   "metadata": {},
   "outputs": [
    {
     "name": "stdout",
     "output_type": "stream",
     "text": [
      "노출_banner : 1, click 여부 : 1\n",
      "노출_banner : 1, click 여부 : 0\n",
      "노출_banner : 1, click 여부 : 1\n",
      "노출_banner : 3, click 여부 : 0\n",
      "노출_banner : 1, click 여부 : 1\n",
      "노출_banner : 2, click 여부 : 1\n",
      "노출_banner : 2, click 여부 : 1\n",
      "노출_banner : 3, click 여부 : 0\n",
      "노출_banner : 1, click 여부 : 1\n",
      "노출_banner : 1, click 여부 : 1\n"
     ]
    }
   ],
   "source": [
    "import random\n",
    "\n",
    "# 10번 Random 하게 시행\n",
    "for i in range(10):\n",
    "    did_click = 0\n",
    "\n",
    "    banner_idx = random.randint(1,3)\n",
    "    click_prob = random.random()\n",
    "\n",
    "    if click_prob >= 0.5:\n",
    "        did_click = 1\n",
    "        \n",
    "    print('노출_banner : {0}, click 여부 : {1}'.format(banner_idx, did_click))\n",
    "    \n",
    "    # update\n",
    "    banner_nm = 'banner_{0}'.format(banner_idx)\n",
    "    \n",
    "    items[banner_nm]['impressions'] += 1\n",
    "    if did_click:\n",
    "        items[banner_nm]['clicks'] += 1"
   ]
  },
  {
   "cell_type": "code",
   "execution_count": 6,
   "id": "22a1e59b-a382-46a1-82db-ccd2a965cae2",
   "metadata": {},
   "outputs": [
    {
     "data": {
      "text/plain": [
       "{'banner_1': {'clicks': 5, 'impressions': 6, 'color': 'r-'},\n",
       " 'banner_2': {'clicks': 2, 'impressions': 2, 'color': 'g-'},\n",
       " 'banner_3': {'clicks': 0, 'impressions': 2, 'color': 'b-'}}"
      ]
     },
     "execution_count": 6,
     "metadata": {},
     "output_type": "execute_result"
    }
   ],
   "source": [
    "items"
   ]
  },
  {
   "cell_type": "code",
   "execution_count": 7,
   "id": "f16c3db4-7e40-4041-88e3-5aec10d9e090",
   "metadata": {},
   "outputs": [
    {
     "data": {
      "image/png": "[encoded data removed]",
      "text/plain": [
       "<Figure size 432x288 with 1 Axes>"
      ]
     },
     "metadata": {
      "needs_background": "light"
     },
     "output_type": "display_data"
    }
   ],
   "source": [
    "fig, ax = plt.subplots(1, 1)\n",
    "\n",
    "# Random sampling\n",
    "\n",
    "# mean, var, skew, kurt = beta.stats(a, b, moments='mvsk')\n",
    "x = np.linspace(0, 1, 100)\n",
    "for i in range(a):\n",
    "    \n",
    "    banner_name = 'banner_{0}'.format(i+1)\n",
    "\n",
    "    item = items[banner_name]\n",
    "    alpha_var = item['clicks'] + 1\n",
    "    beta_var = item['impressions'] - item['clicks'] + 1\n",
    "    color = item['color'] \n",
    "    \n",
    "    ax.plot(x, beta.pdf(x, alpha_var, beta_var), color, lw=3, alpha=0.6, label=banner_name)\n",
    "    \n",
    "ax.legend(loc='best', frameon=False)\n",
    "plt.show()"
   ]
  },
  {
   "cell_type": "markdown",
   "id": "c2c31daa-4be8-4934-990d-625d102a2acb",
   "metadata": {},
   "source": [
    "## Step2.Thomson sampling"
   ]
  },
  {
   "cell_type": "code",
   "execution_count": 8,
   "id": "b678f38d-61ea-4b62-be9e-233ef0db9e1b",
   "metadata": {},
   "outputs": [
    {
     "name": "stdout",
     "output_type": "stream",
     "text": [
      "노출_banner : 1, click 여부 : 1\n",
      "노출_banner : 1, click 여부 : 0\n",
      "노출_banner : 2, click 여부 : 1\n",
      "노출_banner : 2, click 여부 : 0\n",
      "노출_banner : 2, click 여부 : 1\n",
      "노출_banner : 2, click 여부 : 1\n",
      "노출_banner : 2, click 여부 : 1\n",
      "노출_banner : 2, click 여부 : 1\n",
      "노출_banner : 2, click 여부 : 1\n",
      "노출_banner : 2, click 여부 : 1\n"
     ]
    }
   ],
   "source": [
    "import random\n",
    "\n",
    "for i in range(10):\n",
    "    \n",
    "    ctr_list = []\n",
    "    \n",
    "    # ------------------\n",
    "    # thomson sampling\n",
    "    for i in range(a):\n",
    "        banner_name = 'banner_{0}'.format(i+1)\n",
    "\n",
    "        item = items[banner_name]\n",
    "        alpha_var = item['clicks'] + 1\n",
    "        beta_var = item['impressions'] - item['clicks'] + 1\n",
    "        \n",
    "        ctr = random.betavariate(alpha_var, beta_var)\n",
    "        ctr_list.append(ctr)\n",
    "\n",
    "    max_ctr_value = max(ctr_list)\n",
    "    max_index = ctr_list.index(max_ctr_value)\n",
    "    banner_idx = max_index + 1\n",
    "    \n",
    "    # ------------------\n",
    "        \n",
    "    did_click = bernoulli.rvs(max_ctr_value) # Random variates.\n",
    "        \n",
    "    print('노출_banner : {0}, click 여부 : {1}'.format(banner_idx, did_click))\n",
    "    \n",
    "    # update\n",
    "    banner_nm = 'banner_{0}'.format(banner_idx)\n",
    "    \n",
    "    items[banner_nm]['impressions'] += 1\n",
    "    if did_click:\n",
    "        items[banner_nm]['clicks'] += 1"
   ]
  },
  {
   "cell_type": "code",
   "execution_count": 9,
   "id": "f29eeb31-05af-4ccf-af22-2f7e7b65a954",
   "metadata": {},
   "outputs": [
    {
     "data": {
      "text/plain": [
       "{'banner_1': {'clicks': 6, 'impressions': 8, 'color': 'r-'},\n",
       " 'banner_2': {'clicks': 9, 'impressions': 10, 'color': 'g-'},\n",
       " 'banner_3': {'clicks': 0, 'impressions': 2, 'color': 'b-'}}"
      ]
     },
     "execution_count": 9,
     "metadata": {},
     "output_type": "execute_result"
    }
   ],
   "source": [
    "items"
   ]
  },
  {
   "cell_type": "code",
   "execution_count": 10,
   "id": "cdd4cede-25c2-4256-b19f-0fa12f34ed51",
   "metadata": {},
   "outputs": [
    {
     "data": {
      "image/png": "[encoded data removed]",
      "text/plain": [
       "<Figure size 432x288 with 1 Axes>"
      ]
     },
     "metadata": {
      "needs_background": "light"
     },
     "output_type": "display_data"
    }
   ],
   "source": [
    "fig, ax = plt.subplots(1, 1)\n",
    "\n",
    "# Random sampling\n",
    "\n",
    "# mean, var, skew, kurt = beta.stats(a, b, moments='mvsk')\n",
    "x = np.linspace(0, 1, 100)\n",
    "for i in range(a):\n",
    "    \n",
    "    banner_name = 'banner_{0}'.format(i+1)\n",
    "\n",
    "    item = items[banner_name]\n",
    "    alpha_var = item['clicks'] + 1\n",
    "    beta_var = item['impressions'] - item['clicks'] + 1\n",
    "    color = item['color'] \n",
    "    \n",
    "    ax.plot(x, beta.pdf(x, alpha_var, beta_var), color, lw=3, alpha=0.6, label=banner_name)\n",
    "    \n",
    "ax.legend(loc='best', frameon=False)\n",
    "plt.show()"
   ]
  }
 ],
 "metadata": {
  "kernelspec": {
   "display_name": "Python 3",
   "language": "python",
   "name": "python3"
  },
  "language_info": {
   "codemirror_mode": {
    "name": "ipython",
    "version": 3
   },
   "file_extension": ".py",
   "mimetype": "text/x-python",
   "name": "python",
   "nbconvert_exporter": "python",
   "pygments_lexer": "ipython3",
   "version": "3.8.5"
  }
 },
 "nbformat": 4,
 "nbformat_minor": 5
}
